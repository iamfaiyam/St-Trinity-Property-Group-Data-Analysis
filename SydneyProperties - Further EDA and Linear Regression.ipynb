{
 "cells": [
  {
   "cell_type": "markdown",
   "metadata": {},
   "source": [
    "### Sydney Propertes - Further EDA and Linear Regression"
   ]
  },
  {
   "cell_type": "markdown",
   "metadata": {},
   "source": [
    "by Faiyam Islam"
   ]
  },
  {
   "cell_type": "markdown",
   "metadata": {},
   "source": [
    "Importing packages to be used for data cleaning and EDA."
   ]
  },
  {
   "cell_type": "code",
   "execution_count": 1,
   "metadata": {},
   "outputs": [],
   "source": [
    "import numpy as np\n",
    "import pandas as pd\n",
    "import seaborn as sns\n",
    "import matplotlib.pyplot as plt"
   ]
  },
  {
   "cell_type": "code",
   "execution_count": 2,
   "metadata": {},
   "outputs": [],
   "source": [
    "df = pd.read_csv(\"properties.csv\")"
   ]
  },
  {
   "cell_type": "code",
   "execution_count": 3,
   "metadata": {
    "scrolled": true
   },
   "outputs": [
    {
     "data": {
      "text/html": [
       "<div>\n",
       "<style scoped>\n",
       "    .dataframe tbody tr th:only-of-type {\n",
       "        vertical-align: middle;\n",
       "    }\n",
       "\n",
       "    .dataframe tbody tr th {\n",
       "        vertical-align: top;\n",
       "    }\n",
       "\n",
       "    .dataframe thead th {\n",
       "        text-align: right;\n",
       "    }\n",
       "</style>\n",
       "<table border=\"1\" class=\"dataframe\">\n",
       "  <thead>\n",
       "    <tr style=\"text-align: right;\">\n",
       "      <th></th>\n",
       "      <th>date_sold</th>\n",
       "      <th>price</th>\n",
       "      <th>suburb</th>\n",
       "      <th>city_name</th>\n",
       "      <th>state</th>\n",
       "      <th>lat</th>\n",
       "      <th>lon</th>\n",
       "      <th>bedrooms</th>\n",
       "      <th>property_type</th>\n",
       "      <th>loc_pid</th>\n",
       "      <th>lga_pid</th>\n",
       "    </tr>\n",
       "  </thead>\n",
       "  <tbody>\n",
       "    <tr>\n",
       "      <th>0</th>\n",
       "      <td>11/29/2019 00:00</td>\n",
       "      <td>945000.0</td>\n",
       "      <td>Como</td>\n",
       "      <td>Sydney</td>\n",
       "      <td>NSW</td>\n",
       "      <td>-34.004132</td>\n",
       "      <td>151.061993</td>\n",
       "      <td>3</td>\n",
       "      <td>unit</td>\n",
       "      <td>NSW1009</td>\n",
       "      <td>NSW298</td>\n",
       "    </tr>\n",
       "    <tr>\n",
       "      <th>1</th>\n",
       "      <td>09/04/2018 00:00</td>\n",
       "      <td>1150000.0</td>\n",
       "      <td>Concord</td>\n",
       "      <td>Sydney</td>\n",
       "      <td>NSW</td>\n",
       "      <td>-33.866749</td>\n",
       "      <td>151.096050</td>\n",
       "      <td>3</td>\n",
       "      <td>unit</td>\n",
       "      <td>NSW1012</td>\n",
       "      <td>NSW282</td>\n",
       "    </tr>\n",
       "    <tr>\n",
       "      <th>2</th>\n",
       "      <td>09/22/2018 00:00</td>\n",
       "      <td>790000.0</td>\n",
       "      <td>Concord</td>\n",
       "      <td>Sydney</td>\n",
       "      <td>NSW</td>\n",
       "      <td>-33.858405</td>\n",
       "      <td>151.100114</td>\n",
       "      <td>2</td>\n",
       "      <td>unit</td>\n",
       "      <td>NSW1012</td>\n",
       "      <td>NSW282</td>\n",
       "    </tr>\n",
       "    <tr>\n",
       "      <th>3</th>\n",
       "      <td>03/07/2019 00:00</td>\n",
       "      <td>490000.0</td>\n",
       "      <td>Concord</td>\n",
       "      <td>Sydney</td>\n",
       "      <td>NSW</td>\n",
       "      <td>-33.859850</td>\n",
       "      <td>151.109674</td>\n",
       "      <td>1</td>\n",
       "      <td>unit</td>\n",
       "      <td>NSW1012</td>\n",
       "      <td>NSW282</td>\n",
       "    </tr>\n",
       "    <tr>\n",
       "      <th>4</th>\n",
       "      <td>02/05/2019 00:00</td>\n",
       "      <td>570000.0</td>\n",
       "      <td>Concord</td>\n",
       "      <td>Sydney</td>\n",
       "      <td>NSW</td>\n",
       "      <td>-33.862893</td>\n",
       "      <td>151.107620</td>\n",
       "      <td>2</td>\n",
       "      <td>unit</td>\n",
       "      <td>NSW1012</td>\n",
       "      <td>NSW282</td>\n",
       "    </tr>\n",
       "    <tr>\n",
       "      <th>...</th>\n",
       "      <td>...</td>\n",
       "      <td>...</td>\n",
       "      <td>...</td>\n",
       "      <td>...</td>\n",
       "      <td>...</td>\n",
       "      <td>...</td>\n",
       "      <td>...</td>\n",
       "      <td>...</td>\n",
       "      <td>...</td>\n",
       "      <td>...</td>\n",
       "      <td>...</td>\n",
       "    </tr>\n",
       "    <tr>\n",
       "      <th>27007</th>\n",
       "      <td>02/15/2019 00:00</td>\n",
       "      <td>2675000.0</td>\n",
       "      <td>Walsh Bay</td>\n",
       "      <td>Sydney</td>\n",
       "      <td>NSW</td>\n",
       "      <td>-33.857362</td>\n",
       "      <td>151.205199</td>\n",
       "      <td>2</td>\n",
       "      <td>unit</td>\n",
       "      <td>NSWRE2000</td>\n",
       "      <td>NSW200</td>\n",
       "    </tr>\n",
       "    <tr>\n",
       "      <th>27008</th>\n",
       "      <td>11/26/2018 00:00</td>\n",
       "      <td>2700000.0</td>\n",
       "      <td>Walsh Bay</td>\n",
       "      <td>Sydney</td>\n",
       "      <td>NSW</td>\n",
       "      <td>-33.857139</td>\n",
       "      <td>151.202704</td>\n",
       "      <td>3</td>\n",
       "      <td>unit</td>\n",
       "      <td>NSWRE2000</td>\n",
       "      <td>NSW200</td>\n",
       "    </tr>\n",
       "    <tr>\n",
       "      <th>27009</th>\n",
       "      <td>11/23/2018 00:00</td>\n",
       "      <td>2700000.0</td>\n",
       "      <td>Walsh Bay</td>\n",
       "      <td>Sydney</td>\n",
       "      <td>NSW</td>\n",
       "      <td>-33.857362</td>\n",
       "      <td>151.205199</td>\n",
       "      <td>2</td>\n",
       "      <td>unit</td>\n",
       "      <td>NSWRE2000</td>\n",
       "      <td>NSW200</td>\n",
       "    </tr>\n",
       "    <tr>\n",
       "      <th>27010</th>\n",
       "      <td>10/10/2018 00:00</td>\n",
       "      <td>3550000.0</td>\n",
       "      <td>Walsh Bay</td>\n",
       "      <td>Sydney</td>\n",
       "      <td>NSW</td>\n",
       "      <td>-33.856727</td>\n",
       "      <td>151.202898</td>\n",
       "      <td>3</td>\n",
       "      <td>unit</td>\n",
       "      <td>NSWRE2000</td>\n",
       "      <td>NSW200</td>\n",
       "    </tr>\n",
       "    <tr>\n",
       "      <th>27011</th>\n",
       "      <td>09/04/2018 00:00</td>\n",
       "      <td>3250000.0</td>\n",
       "      <td>Walsh Bay</td>\n",
       "      <td>Sydney</td>\n",
       "      <td>NSW</td>\n",
       "      <td>-33.856610</td>\n",
       "      <td>151.205292</td>\n",
       "      <td>3</td>\n",
       "      <td>unit</td>\n",
       "      <td>NSWRE2000</td>\n",
       "      <td>NSW200</td>\n",
       "    </tr>\n",
       "  </tbody>\n",
       "</table>\n",
       "<p>27012 rows × 11 columns</p>\n",
       "</div>"
      ],
      "text/plain": [
       "              date_sold      price     suburb city_name state        lat  \\\n",
       "0      11/29/2019 00:00   945000.0       Como    Sydney   NSW -34.004132   \n",
       "1      09/04/2018 00:00  1150000.0    Concord    Sydney   NSW -33.866749   \n",
       "2      09/22/2018 00:00   790000.0    Concord    Sydney   NSW -33.858405   \n",
       "3      03/07/2019 00:00   490000.0    Concord    Sydney   NSW -33.859850   \n",
       "4      02/05/2019 00:00   570000.0    Concord    Sydney   NSW -33.862893   \n",
       "...                 ...        ...        ...       ...   ...        ...   \n",
       "27007  02/15/2019 00:00  2675000.0  Walsh Bay    Sydney   NSW -33.857362   \n",
       "27008  11/26/2018 00:00  2700000.0  Walsh Bay    Sydney   NSW -33.857139   \n",
       "27009  11/23/2018 00:00  2700000.0  Walsh Bay    Sydney   NSW -33.857362   \n",
       "27010  10/10/2018 00:00  3550000.0  Walsh Bay    Sydney   NSW -33.856727   \n",
       "27011  09/04/2018 00:00  3250000.0  Walsh Bay    Sydney   NSW -33.856610   \n",
       "\n",
       "              lon  bedrooms property_type    loc_pid lga_pid  \n",
       "0      151.061993         3          unit    NSW1009  NSW298  \n",
       "1      151.096050         3          unit    NSW1012  NSW282  \n",
       "2      151.100114         2          unit    NSW1012  NSW282  \n",
       "3      151.109674         1          unit    NSW1012  NSW282  \n",
       "4      151.107620         2          unit    NSW1012  NSW282  \n",
       "...           ...       ...           ...        ...     ...  \n",
       "27007  151.205199         2          unit  NSWRE2000  NSW200  \n",
       "27008  151.202704         3          unit  NSWRE2000  NSW200  \n",
       "27009  151.205199         2          unit  NSWRE2000  NSW200  \n",
       "27010  151.202898         3          unit  NSWRE2000  NSW200  \n",
       "27011  151.205292         3          unit  NSWRE2000  NSW200  \n",
       "\n",
       "[27012 rows x 11 columns]"
      ]
     },
     "execution_count": 3,
     "metadata": {},
     "output_type": "execute_result"
    }
   ],
   "source": [
    "df"
   ]
  },
  {
   "cell_type": "code",
   "execution_count": 4,
   "metadata": {},
   "outputs": [
    {
     "data": {
      "text/html": [
       "<div>\n",
       "<style scoped>\n",
       "    .dataframe tbody tr th:only-of-type {\n",
       "        vertical-align: middle;\n",
       "    }\n",
       "\n",
       "    .dataframe tbody tr th {\n",
       "        vertical-align: top;\n",
       "    }\n",
       "\n",
       "    .dataframe thead th {\n",
       "        text-align: right;\n",
       "    }\n",
       "</style>\n",
       "<table border=\"1\" class=\"dataframe\">\n",
       "  <thead>\n",
       "    <tr style=\"text-align: right;\">\n",
       "      <th></th>\n",
       "      <th>date_sold</th>\n",
       "      <th>price</th>\n",
       "      <th>suburb</th>\n",
       "      <th>city_name</th>\n",
       "      <th>state</th>\n",
       "      <th>lat</th>\n",
       "      <th>lon</th>\n",
       "      <th>bedrooms</th>\n",
       "      <th>property_type</th>\n",
       "      <th>loc_pid</th>\n",
       "      <th>lga_pid</th>\n",
       "    </tr>\n",
       "  </thead>\n",
       "  <tbody>\n",
       "    <tr>\n",
       "      <th>0</th>\n",
       "      <td>11/29/2019 00:00</td>\n",
       "      <td>945000.0</td>\n",
       "      <td>Como</td>\n",
       "      <td>Sydney</td>\n",
       "      <td>NSW</td>\n",
       "      <td>-34.004132</td>\n",
       "      <td>151.061993</td>\n",
       "      <td>3</td>\n",
       "      <td>unit</td>\n",
       "      <td>NSW1009</td>\n",
       "      <td>NSW298</td>\n",
       "    </tr>\n",
       "    <tr>\n",
       "      <th>1</th>\n",
       "      <td>09/04/2018 00:00</td>\n",
       "      <td>1150000.0</td>\n",
       "      <td>Concord</td>\n",
       "      <td>Sydney</td>\n",
       "      <td>NSW</td>\n",
       "      <td>-33.866749</td>\n",
       "      <td>151.096050</td>\n",
       "      <td>3</td>\n",
       "      <td>unit</td>\n",
       "      <td>NSW1012</td>\n",
       "      <td>NSW282</td>\n",
       "    </tr>\n",
       "    <tr>\n",
       "      <th>2</th>\n",
       "      <td>09/22/2018 00:00</td>\n",
       "      <td>790000.0</td>\n",
       "      <td>Concord</td>\n",
       "      <td>Sydney</td>\n",
       "      <td>NSW</td>\n",
       "      <td>-33.858405</td>\n",
       "      <td>151.100114</td>\n",
       "      <td>2</td>\n",
       "      <td>unit</td>\n",
       "      <td>NSW1012</td>\n",
       "      <td>NSW282</td>\n",
       "    </tr>\n",
       "    <tr>\n",
       "      <th>3</th>\n",
       "      <td>03/07/2019 00:00</td>\n",
       "      <td>490000.0</td>\n",
       "      <td>Concord</td>\n",
       "      <td>Sydney</td>\n",
       "      <td>NSW</td>\n",
       "      <td>-33.859850</td>\n",
       "      <td>151.109674</td>\n",
       "      <td>1</td>\n",
       "      <td>unit</td>\n",
       "      <td>NSW1012</td>\n",
       "      <td>NSW282</td>\n",
       "    </tr>\n",
       "    <tr>\n",
       "      <th>4</th>\n",
       "      <td>02/05/2019 00:00</td>\n",
       "      <td>570000.0</td>\n",
       "      <td>Concord</td>\n",
       "      <td>Sydney</td>\n",
       "      <td>NSW</td>\n",
       "      <td>-33.862893</td>\n",
       "      <td>151.107620</td>\n",
       "      <td>2</td>\n",
       "      <td>unit</td>\n",
       "      <td>NSW1012</td>\n",
       "      <td>NSW282</td>\n",
       "    </tr>\n",
       "  </tbody>\n",
       "</table>\n",
       "</div>"
      ],
      "text/plain": [
       "          date_sold      price   suburb city_name state        lat  \\\n",
       "0  11/29/2019 00:00   945000.0     Como    Sydney   NSW -34.004132   \n",
       "1  09/04/2018 00:00  1150000.0  Concord    Sydney   NSW -33.866749   \n",
       "2  09/22/2018 00:00   790000.0  Concord    Sydney   NSW -33.858405   \n",
       "3  03/07/2019 00:00   490000.0  Concord    Sydney   NSW -33.859850   \n",
       "4  02/05/2019 00:00   570000.0  Concord    Sydney   NSW -33.862893   \n",
       "\n",
       "          lon  bedrooms property_type  loc_pid lga_pid  \n",
       "0  151.061993         3          unit  NSW1009  NSW298  \n",
       "1  151.096050         3          unit  NSW1012  NSW282  \n",
       "2  151.100114         2          unit  NSW1012  NSW282  \n",
       "3  151.109674         1          unit  NSW1012  NSW282  \n",
       "4  151.107620         2          unit  NSW1012  NSW282  "
      ]
     },
     "execution_count": 4,
     "metadata": {},
     "output_type": "execute_result"
    }
   ],
   "source": [
    "df.head()"
   ]
  },
  {
   "cell_type": "code",
   "execution_count": 5,
   "metadata": {},
   "outputs": [
    {
     "name": "stdout",
     "output_type": "stream",
     "text": [
      "<class 'pandas.core.frame.DataFrame'>\n",
      "RangeIndex: 27012 entries, 0 to 27011\n",
      "Data columns (total 11 columns):\n",
      " #   Column         Non-Null Count  Dtype  \n",
      "---  ------         --------------  -----  \n",
      " 0   date_sold      27012 non-null  object \n",
      " 1   price          20231 non-null  float64\n",
      " 2   suburb         27012 non-null  object \n",
      " 3   city_name      27012 non-null  object \n",
      " 4   state          27012 non-null  object \n",
      " 5   lat            27005 non-null  float64\n",
      " 6   lon            27005 non-null  float64\n",
      " 7   bedrooms       27012 non-null  int64  \n",
      " 8   property_type  27012 non-null  object \n",
      " 9   loc_pid        27012 non-null  object \n",
      " 10  lga_pid        27012 non-null  object \n",
      "dtypes: float64(3), int64(1), object(7)\n",
      "memory usage: 2.3+ MB\n"
     ]
    }
   ],
   "source": [
    "df.info()"
   ]
  },
  {
   "cell_type": "code",
   "execution_count": 6,
   "metadata": {},
   "outputs": [],
   "source": [
    "df[\"date_sold\"] = pd.to_datetime(df[\"date_sold\"])\n",
    "df[\"Year\"] = df[\"date_sold\"].dt.year\n",
    "df[\"Month\"] = df[\"date_sold\"].dt.month\n",
    "df[\"Day\"] = df[\"date_sold\"].dt.day"
   ]
  },
  {
   "cell_type": "code",
   "execution_count": 7,
   "metadata": {},
   "outputs": [],
   "source": [
    "df = df.drop([\"loc_pid\", \"date_sold\"], axis = 1)"
   ]
  },
  {
   "cell_type": "code",
   "execution_count": 8,
   "metadata": {},
   "outputs": [
    {
     "data": {
      "text/html": [
       "<div>\n",
       "<style scoped>\n",
       "    .dataframe tbody tr th:only-of-type {\n",
       "        vertical-align: middle;\n",
       "    }\n",
       "\n",
       "    .dataframe tbody tr th {\n",
       "        vertical-align: top;\n",
       "    }\n",
       "\n",
       "    .dataframe thead th {\n",
       "        text-align: right;\n",
       "    }\n",
       "</style>\n",
       "<table border=\"1\" class=\"dataframe\">\n",
       "  <thead>\n",
       "    <tr style=\"text-align: right;\">\n",
       "      <th></th>\n",
       "      <th>price</th>\n",
       "      <th>suburb</th>\n",
       "      <th>city_name</th>\n",
       "      <th>state</th>\n",
       "      <th>lat</th>\n",
       "      <th>lon</th>\n",
       "      <th>bedrooms</th>\n",
       "      <th>property_type</th>\n",
       "      <th>lga_pid</th>\n",
       "      <th>Year</th>\n",
       "      <th>Month</th>\n",
       "      <th>Day</th>\n",
       "    </tr>\n",
       "  </thead>\n",
       "  <tbody>\n",
       "    <tr>\n",
       "      <th>0</th>\n",
       "      <td>945000.0</td>\n",
       "      <td>Como</td>\n",
       "      <td>Sydney</td>\n",
       "      <td>NSW</td>\n",
       "      <td>-34.004132</td>\n",
       "      <td>151.061993</td>\n",
       "      <td>3</td>\n",
       "      <td>unit</td>\n",
       "      <td>NSW298</td>\n",
       "      <td>2019</td>\n",
       "      <td>11</td>\n",
       "      <td>29</td>\n",
       "    </tr>\n",
       "    <tr>\n",
       "      <th>1</th>\n",
       "      <td>1150000.0</td>\n",
       "      <td>Concord</td>\n",
       "      <td>Sydney</td>\n",
       "      <td>NSW</td>\n",
       "      <td>-33.866749</td>\n",
       "      <td>151.096050</td>\n",
       "      <td>3</td>\n",
       "      <td>unit</td>\n",
       "      <td>NSW282</td>\n",
       "      <td>2018</td>\n",
       "      <td>9</td>\n",
       "      <td>4</td>\n",
       "    </tr>\n",
       "    <tr>\n",
       "      <th>2</th>\n",
       "      <td>790000.0</td>\n",
       "      <td>Concord</td>\n",
       "      <td>Sydney</td>\n",
       "      <td>NSW</td>\n",
       "      <td>-33.858405</td>\n",
       "      <td>151.100114</td>\n",
       "      <td>2</td>\n",
       "      <td>unit</td>\n",
       "      <td>NSW282</td>\n",
       "      <td>2018</td>\n",
       "      <td>9</td>\n",
       "      <td>22</td>\n",
       "    </tr>\n",
       "    <tr>\n",
       "      <th>3</th>\n",
       "      <td>490000.0</td>\n",
       "      <td>Concord</td>\n",
       "      <td>Sydney</td>\n",
       "      <td>NSW</td>\n",
       "      <td>-33.859850</td>\n",
       "      <td>151.109674</td>\n",
       "      <td>1</td>\n",
       "      <td>unit</td>\n",
       "      <td>NSW282</td>\n",
       "      <td>2019</td>\n",
       "      <td>3</td>\n",
       "      <td>7</td>\n",
       "    </tr>\n",
       "    <tr>\n",
       "      <th>4</th>\n",
       "      <td>570000.0</td>\n",
       "      <td>Concord</td>\n",
       "      <td>Sydney</td>\n",
       "      <td>NSW</td>\n",
       "      <td>-33.862893</td>\n",
       "      <td>151.107620</td>\n",
       "      <td>2</td>\n",
       "      <td>unit</td>\n",
       "      <td>NSW282</td>\n",
       "      <td>2019</td>\n",
       "      <td>2</td>\n",
       "      <td>5</td>\n",
       "    </tr>\n",
       "  </tbody>\n",
       "</table>\n",
       "</div>"
      ],
      "text/plain": [
       "       price   suburb city_name state        lat         lon  bedrooms  \\\n",
       "0   945000.0     Como    Sydney   NSW -34.004132  151.061993         3   \n",
       "1  1150000.0  Concord    Sydney   NSW -33.866749  151.096050         3   \n",
       "2   790000.0  Concord    Sydney   NSW -33.858405  151.100114         2   \n",
       "3   490000.0  Concord    Sydney   NSW -33.859850  151.109674         1   \n",
       "4   570000.0  Concord    Sydney   NSW -33.862893  151.107620         2   \n",
       "\n",
       "  property_type lga_pid  Year  Month  Day  \n",
       "0          unit  NSW298  2019     11   29  \n",
       "1          unit  NSW282  2018      9    4  \n",
       "2          unit  NSW282  2018      9   22  \n",
       "3          unit  NSW282  2019      3    7  \n",
       "4          unit  NSW282  2019      2    5  "
      ]
     },
     "execution_count": 8,
     "metadata": {},
     "output_type": "execute_result"
    }
   ],
   "source": [
    "df.head()"
   ]
  },
  {
   "cell_type": "code",
   "execution_count": 9,
   "metadata": {},
   "outputs": [
    {
     "data": {
      "text/html": [
       "<div>\n",
       "<style scoped>\n",
       "    .dataframe tbody tr th:only-of-type {\n",
       "        vertical-align: middle;\n",
       "    }\n",
       "\n",
       "    .dataframe tbody tr th {\n",
       "        vertical-align: top;\n",
       "    }\n",
       "\n",
       "    .dataframe thead th {\n",
       "        text-align: right;\n",
       "    }\n",
       "</style>\n",
       "<table border=\"1\" class=\"dataframe\">\n",
       "  <thead>\n",
       "    <tr style=\"text-align: right;\">\n",
       "      <th></th>\n",
       "      <th>count</th>\n",
       "      <th>mean</th>\n",
       "      <th>std</th>\n",
       "      <th>min</th>\n",
       "      <th>25%</th>\n",
       "      <th>50%</th>\n",
       "      <th>75%</th>\n",
       "      <th>max</th>\n",
       "    </tr>\n",
       "  </thead>\n",
       "  <tbody>\n",
       "    <tr>\n",
       "      <th>price</th>\n",
       "      <td>20231.0</td>\n",
       "      <td>823740.846671</td>\n",
       "      <td>518355.444716</td>\n",
       "      <td>41500.000000</td>\n",
       "      <td>555000.000000</td>\n",
       "      <td>695000.000000</td>\n",
       "      <td>915000.000000</td>\n",
       "      <td>8.700000e+06</td>\n",
       "    </tr>\n",
       "    <tr>\n",
       "      <th>lat</th>\n",
       "      <td>27005.0</td>\n",
       "      <td>-33.873727</td>\n",
       "      <td>0.076634</td>\n",
       "      <td>-34.112578</td>\n",
       "      <td>-33.914641</td>\n",
       "      <td>-33.877108</td>\n",
       "      <td>-33.825812</td>\n",
       "      <td>-3.354740e+01</td>\n",
       "    </tr>\n",
       "    <tr>\n",
       "      <th>lon</th>\n",
       "      <td>27005.0</td>\n",
       "      <td>151.126965</td>\n",
       "      <td>0.107340</td>\n",
       "      <td>150.670227</td>\n",
       "      <td>151.077727</td>\n",
       "      <td>151.140670</td>\n",
       "      <td>151.209147</td>\n",
       "      <td>1.512864e+02</td>\n",
       "    </tr>\n",
       "    <tr>\n",
       "      <th>bedrooms</th>\n",
       "      <td>27012.0</td>\n",
       "      <td>1.923145</td>\n",
       "      <td>0.611929</td>\n",
       "      <td>0.000000</td>\n",
       "      <td>2.000000</td>\n",
       "      <td>2.000000</td>\n",
       "      <td>2.000000</td>\n",
       "      <td>3.000000e+00</td>\n",
       "    </tr>\n",
       "    <tr>\n",
       "      <th>Year</th>\n",
       "      <td>27012.0</td>\n",
       "      <td>2019.129276</td>\n",
       "      <td>0.653760</td>\n",
       "      <td>2018.000000</td>\n",
       "      <td>2019.000000</td>\n",
       "      <td>2019.000000</td>\n",
       "      <td>2020.000000</td>\n",
       "      <td>2.020000e+03</td>\n",
       "    </tr>\n",
       "    <tr>\n",
       "      <th>Month</th>\n",
       "      <td>27012.0</td>\n",
       "      <td>6.738005</td>\n",
       "      <td>3.429078</td>\n",
       "      <td>1.000000</td>\n",
       "      <td>4.000000</td>\n",
       "      <td>7.000000</td>\n",
       "      <td>10.000000</td>\n",
       "      <td>1.200000e+01</td>\n",
       "    </tr>\n",
       "    <tr>\n",
       "      <th>Day</th>\n",
       "      <td>27012.0</td>\n",
       "      <td>15.610284</td>\n",
       "      <td>8.651583</td>\n",
       "      <td>1.000000</td>\n",
       "      <td>8.000000</td>\n",
       "      <td>15.000000</td>\n",
       "      <td>23.000000</td>\n",
       "      <td>3.100000e+01</td>\n",
       "    </tr>\n",
       "  </tbody>\n",
       "</table>\n",
       "</div>"
      ],
      "text/plain": [
       "            count           mean            std           min            25%  \\\n",
       "price     20231.0  823740.846671  518355.444716  41500.000000  555000.000000   \n",
       "lat       27005.0     -33.873727       0.076634    -34.112578     -33.914641   \n",
       "lon       27005.0     151.126965       0.107340    150.670227     151.077727   \n",
       "bedrooms  27012.0       1.923145       0.611929      0.000000       2.000000   \n",
       "Year      27012.0    2019.129276       0.653760   2018.000000    2019.000000   \n",
       "Month     27012.0       6.738005       3.429078      1.000000       4.000000   \n",
       "Day       27012.0      15.610284       8.651583      1.000000       8.000000   \n",
       "\n",
       "                    50%            75%           max  \n",
       "price     695000.000000  915000.000000  8.700000e+06  \n",
       "lat          -33.877108     -33.825812 -3.354740e+01  \n",
       "lon          151.140670     151.209147  1.512864e+02  \n",
       "bedrooms       2.000000       2.000000  3.000000e+00  \n",
       "Year        2019.000000    2020.000000  2.020000e+03  \n",
       "Month          7.000000      10.000000  1.200000e+01  \n",
       "Day           15.000000      23.000000  3.100000e+01  "
      ]
     },
     "execution_count": 9,
     "metadata": {},
     "output_type": "execute_result"
    }
   ],
   "source": [
    "df.describe().T"
   ]
  },
  {
   "cell_type": "markdown",
   "metadata": {},
   "source": [
    "Descriptive statistics of price, lat, lon and bedrooms of the properties."
   ]
  },
  {
   "cell_type": "code",
   "execution_count": 10,
   "metadata": {},
   "outputs": [],
   "source": [
    "df[\"new_column\"] = df[\"price\"]\n",
    "df.drop([\"price\"], axis = 1, inplace = True)\n",
    "df.rename(columns = {\"new_column\":\"price\"}, inplace = True)"
   ]
  },
  {
   "cell_type": "code",
   "execution_count": 11,
   "metadata": {},
   "outputs": [],
   "source": [
    "list_name = []\n",
    "list_type = []\n",
    "list_total_value = []\n",
    "list_missing_value = []\n",
    "list_unique_value = []\n",
    "\n",
    "for i in df.columns:\n",
    "    list_name.append(i)\n",
    "    list_type.append(str(df[i].dtype))\n",
    "    list_total_value.append(df[i].notnull().sum())\n",
    "    list_missing_value.append(df[i].isnull().sum())\n",
    "    list_unique_value.append(len(df[i].unique()))\n",
    "    \n",
    "    df_info = pd.DataFrame(data = {\"Total_Value\":list_total_value, \"Missing_Value\":list_missing_value, \n",
    "                                   \"Unique_Value\": list_unique_value, \"Type\":list_type}, index = list_name)"
   ]
  },
  {
   "cell_type": "code",
   "execution_count": 12,
   "metadata": {},
   "outputs": [
    {
     "data": {
      "text/html": [
       "<div>\n",
       "<style scoped>\n",
       "    .dataframe tbody tr th:only-of-type {\n",
       "        vertical-align: middle;\n",
       "    }\n",
       "\n",
       "    .dataframe tbody tr th {\n",
       "        vertical-align: top;\n",
       "    }\n",
       "\n",
       "    .dataframe thead th {\n",
       "        text-align: right;\n",
       "    }\n",
       "</style>\n",
       "<table border=\"1\" class=\"dataframe\">\n",
       "  <thead>\n",
       "    <tr style=\"text-align: right;\">\n",
       "      <th></th>\n",
       "      <th>Total_Value</th>\n",
       "      <th>Missing_Value</th>\n",
       "      <th>Unique_Value</th>\n",
       "      <th>Type</th>\n",
       "    </tr>\n",
       "  </thead>\n",
       "  <tbody>\n",
       "    <tr>\n",
       "      <th>suburb</th>\n",
       "      <td>27012</td>\n",
       "      <td>0</td>\n",
       "      <td>346</td>\n",
       "      <td>object</td>\n",
       "    </tr>\n",
       "    <tr>\n",
       "      <th>city_name</th>\n",
       "      <td>27012</td>\n",
       "      <td>0</td>\n",
       "      <td>1</td>\n",
       "      <td>object</td>\n",
       "    </tr>\n",
       "    <tr>\n",
       "      <th>state</th>\n",
       "      <td>27012</td>\n",
       "      <td>0</td>\n",
       "      <td>1</td>\n",
       "      <td>object</td>\n",
       "    </tr>\n",
       "    <tr>\n",
       "      <th>lat</th>\n",
       "      <td>27005</td>\n",
       "      <td>7</td>\n",
       "      <td>18382</td>\n",
       "      <td>float64</td>\n",
       "    </tr>\n",
       "    <tr>\n",
       "      <th>lon</th>\n",
       "      <td>27005</td>\n",
       "      <td>7</td>\n",
       "      <td>18416</td>\n",
       "      <td>float64</td>\n",
       "    </tr>\n",
       "    <tr>\n",
       "      <th>bedrooms</th>\n",
       "      <td>27012</td>\n",
       "      <td>0</td>\n",
       "      <td>4</td>\n",
       "      <td>int64</td>\n",
       "    </tr>\n",
       "    <tr>\n",
       "      <th>property_type</th>\n",
       "      <td>27012</td>\n",
       "      <td>0</td>\n",
       "      <td>1</td>\n",
       "      <td>object</td>\n",
       "    </tr>\n",
       "    <tr>\n",
       "      <th>lga_pid</th>\n",
       "      <td>27012</td>\n",
       "      <td>0</td>\n",
       "      <td>28</td>\n",
       "      <td>object</td>\n",
       "    </tr>\n",
       "    <tr>\n",
       "      <th>Year</th>\n",
       "      <td>27012</td>\n",
       "      <td>0</td>\n",
       "      <td>3</td>\n",
       "      <td>int64</td>\n",
       "    </tr>\n",
       "    <tr>\n",
       "      <th>Month</th>\n",
       "      <td>27012</td>\n",
       "      <td>0</td>\n",
       "      <td>12</td>\n",
       "      <td>int64</td>\n",
       "    </tr>\n",
       "    <tr>\n",
       "      <th>Day</th>\n",
       "      <td>27012</td>\n",
       "      <td>0</td>\n",
       "      <td>31</td>\n",
       "      <td>int64</td>\n",
       "    </tr>\n",
       "    <tr>\n",
       "      <th>price</th>\n",
       "      <td>20231</td>\n",
       "      <td>6781</td>\n",
       "      <td>2121</td>\n",
       "      <td>float64</td>\n",
       "    </tr>\n",
       "  </tbody>\n",
       "</table>\n",
       "</div>"
      ],
      "text/plain": [
       "               Total_Value  Missing_Value  Unique_Value     Type\n",
       "suburb               27012              0           346   object\n",
       "city_name            27012              0             1   object\n",
       "state                27012              0             1   object\n",
       "lat                  27005              7         18382  float64\n",
       "lon                  27005              7         18416  float64\n",
       "bedrooms             27012              0             4    int64\n",
       "property_type        27012              0             1   object\n",
       "lga_pid              27012              0            28   object\n",
       "Year                 27012              0             3    int64\n",
       "Month                27012              0            12    int64\n",
       "Day                  27012              0            31    int64\n",
       "price                20231           6781          2121  float64"
      ]
     },
     "execution_count": 12,
     "metadata": {},
     "output_type": "execute_result"
    }
   ],
   "source": [
    "df_info"
   ]
  },
  {
   "cell_type": "code",
   "execution_count": 13,
   "metadata": {},
   "outputs": [],
   "source": [
    "sns.set_style(\"whitegrid\")"
   ]
  },
  {
   "cell_type": "code",
   "execution_count": 14,
   "metadata": {},
   "outputs": [
    {
     "data": {
      "text/plain": [
       "<matplotlib.axes._subplots.AxesSubplot at 0x23204582808>"
      ]
     },
     "execution_count": 14,
     "metadata": {},
     "output_type": "execute_result"
    },
    {
     "data": {
      "image/png": "[encoded data removed]",
      "text/plain": [
       "<Figure size 1080x432 with 1 Axes>"
      ]
     },
     "metadata": {},
     "output_type": "display_data"
    }
   ],
   "source": [
    "plt.figure(figsize = (15,6))\n",
    "df[\"suburb\"].value_counts()[:15].plot.barh()"
   ]
  },
  {
   "cell_type": "code",
   "execution_count": 15,
   "metadata": {},
   "outputs": [
    {
     "data": {
      "text/plain": [
       "<matplotlib.axes._subplots.AxesSubplot at 0x2320533efc8>"
      ]
     },
     "execution_count": 15,
     "metadata": {},
     "output_type": "execute_result"
    },
    {
     "data": {
      "image/png": "[encoded data removed]",
      "text/plain": [
       "<Figure size 1080x432 with 1 Axes>"
      ]
     },
     "metadata": {},
     "output_type": "display_data"
    }
   ],
   "source": [
    "plt.figure(figsize = (15, 6))\n",
    "df[\"property_type\"].value_counts().plot.barh()"
   ]
  },
  {
   "cell_type": "code",
   "execution_count": 16,
   "metadata": {},
   "outputs": [],
   "source": [
    "data_num = df.select_dtypes([\"float64\", \"int64\"]).columns"
   ]
  },
  {
   "cell_type": "code",
   "execution_count": 17,
   "metadata": {},
   "outputs": [
    {
     "data": {
      "text/plain": [
       "<matplotlib.axes._subplots.AxesSubplot at 0x2320533cbc8>"
      ]
     },
     "execution_count": 17,
     "metadata": {},
     "output_type": "execute_result"
    },
    {
     "data": {
      "image/png": "[encoded data removed]",
      "text/plain": [
       "<Figure size 1080x432 with 1 Axes>"
      ]
     },
     "metadata": {},
     "output_type": "display_data"
    }
   ],
   "source": [
    "plt.figure(figsize = (15, 6))\n",
    "sns.countplot(df[\"Month\"], palette = \"Set3\")"
   ]
  },
  {
   "cell_type": "code",
   "execution_count": 18,
   "metadata": {},
   "outputs": [
    {
     "data": {
      "text/plain": [
       "<matplotlib.axes._subplots.AxesSubplot at 0x232054fb808>"
      ]
     },
     "execution_count": 18,
     "metadata": {},
     "output_type": "execute_result"
    },
    {
     "data": {
      "image/png": "[encoded data removed]",
      "text/plain": [
       "<Figure size 1080x432 with 1 Axes>"
      ]
     },
     "metadata": {},
     "output_type": "display_data"
    }
   ],
   "source": [
    "plt.figure(figsize = (15, 6))\n",
    "sns.countplot(df[\"Year\"], palette = \"hot_r\")"
   ]
  },
  {
   "cell_type": "code",
   "execution_count": 19,
   "metadata": {},
   "outputs": [
    {
     "data": {
      "text/plain": [
       "<matplotlib.axes._subplots.AxesSubplot at 0x232058af208>"
      ]
     },
     "execution_count": 19,
     "metadata": {},
     "output_type": "execute_result"
    },
    {
     "data": {
      "image/png": "[encoded data removed]",
      "text/plain": [
       "<Figure size 1080x864 with 2 Axes>"
      ]
     },
     "metadata": {},
     "output_type": "display_data"
    }
   ],
   "source": [
    "fig, ax = plt.subplots(nrows = 2, ncols = 1, figsize = (15, 12))\n",
    "sns.barplot(data = df, x = \"Year\", y = \"price\", color = \"#8E44AD\", ax = ax[0])\n",
    "sns.barplot(data = df, x = \"Month\", y = \"price\", color = \"#2ECC71\", ax = ax[1])"
   ]
  },
  {
   "cell_type": "code",
   "execution_count": 20,
   "metadata": {},
   "outputs": [
    {
     "data": {
      "text/plain": [
       "<matplotlib.axes._subplots.AxesSubplot at 0x232057a7948>"
      ]
     },
     "execution_count": 20,
     "metadata": {},
     "output_type": "execute_result"
    },
    {
     "data": {
      "image/png": "[encoded data removed]",
      "text/plain": [
       "<Figure size 1080x864 with 2 Axes>"
      ]
     },
     "metadata": {},
     "output_type": "display_data"
    }
   ],
   "source": [
    "fig,ax=plt.subplots(nrows=2,ncols=1,figsize=(15,12))\n",
    "sns.pointplot(data=df,x=\"Year\",y=\"price\",color=\"#8E44AD\",ax=ax[0])\n",
    "sns.pointplot(data=df,x=\"Month\",y=\"price\",color=\"#2ECC71\",ax=ax[1])"
   ]
  },
  {
   "cell_type": "code",
   "execution_count": 21,
   "metadata": {},
   "outputs": [
    {
     "data": {
      "text/plain": [
       "<matplotlib.axes._subplots.AxesSubplot at 0x2320605bb88>"
      ]
     },
     "execution_count": 21,
     "metadata": {},
     "output_type": "execute_result"
    },
    {
     "data": {
      "image/png": "[encoded data removed]",
      "text/plain": [
       "<Figure size 1080x864 with 2 Axes>"
      ]
     },
     "metadata": {},
     "output_type": "display_data"
    }
   ],
   "source": [
    "fig,ax=plt.subplots(nrows=2,ncols=1,figsize=(15,12))\n",
    "sns.pointplot(data=df,x=\"Year\",y=\"price\",hue=\"property_type\",ax=ax[0],ci=None)\n",
    "sns.pointplot(data=df,x=\"Month\",y=\"price\",hue=\"property_type\",ax=ax[1],ci=None)"
   ]
  },
  {
   "cell_type": "code",
   "execution_count": 22,
   "metadata": {},
   "outputs": [
    {
     "data": {
      "text/plain": [
       "<matplotlib.axes._subplots.AxesSubplot at 0x23205ab4048>"
      ]
     },
     "execution_count": 22,
     "metadata": {},
     "output_type": "execute_result"
    },
    {
     "data": {
      "image/png": "[encoded data removed]",
      "text/plain": [
       "<Figure size 432x288 with 1 Axes>"
      ]
     },
     "metadata": {},
     "output_type": "display_data"
    }
   ],
   "source": [
    "sns.countplot(df[\"Month\"])"
   ]
  },
  {
   "cell_type": "code",
   "execution_count": 23,
   "metadata": {},
   "outputs": [
    {
     "data": {
      "text/plain": [
       "<matplotlib.axes._subplots.AxesSubplot at 0x23206027f88>"
      ]
     },
     "execution_count": 23,
     "metadata": {},
     "output_type": "execute_result"
    },
    {
     "data": {
      "image/png": "[encoded data removed]",
      "text/plain": [
       "<Figure size 720x360 with 1 Axes>"
      ]
     },
     "metadata": {},
     "output_type": "display_data"
    }
   ],
   "source": [
    "plt.figure(figsize = (10, 5))\n",
    "sns.countplot(df[\"Year\"])"
   ]
  },
  {
   "cell_type": "code",
   "execution_count": 24,
   "metadata": {},
   "outputs": [
    {
     "data": {
      "text/plain": [
       "<matplotlib.axes._subplots.AxesSubplot at 0x23206354888>"
      ]
     },
     "execution_count": 24,
     "metadata": {},
     "output_type": "execute_result"
    },
    {
     "data": {
      "image/png": "[encoded data removed]",
      "text/plain": [
       "<Figure size 432x288 with 1 Axes>"
      ]
     },
     "metadata": {},
     "output_type": "display_data"
    }
   ],
   "source": [
    "sns.barplot(x = df[\"Month\"], y = df[\"price\"], data = df)"
   ]
  },
  {
   "cell_type": "markdown",
   "metadata": {},
   "source": [
    "Linear Regression Models (simple and multi-linear regression)"
   ]
  },
  {
   "cell_type": "code",
   "execution_count": 25,
   "metadata": {},
   "outputs": [],
   "source": [
    "import statsmodels.formula.api as smf\n",
    "from sklearn import preprocessing\n",
    "from sklearn import linear_model\n",
    "from sklearn.linear_model import LinearRegression\n",
    "from sklearn.metrics import mean_squared_error, r2_score\n",
    "from sklearn.model_selection import train_test_split, cross_val_score, cross_val_predict"
   ]
  },
  {
   "cell_type": "code",
   "execution_count": 26,
   "metadata": {},
   "outputs": [
    {
     "data": {
      "text/html": [
       "<div>\n",
       "<style scoped>\n",
       "    .dataframe tbody tr th:only-of-type {\n",
       "        vertical-align: middle;\n",
       "    }\n",
       "\n",
       "    .dataframe tbody tr th {\n",
       "        vertical-align: top;\n",
       "    }\n",
       "\n",
       "    .dataframe thead th {\n",
       "        text-align: right;\n",
       "    }\n",
       "</style>\n",
       "<table border=\"1\" class=\"dataframe\">\n",
       "  <thead>\n",
       "    <tr style=\"text-align: right;\">\n",
       "      <th></th>\n",
       "      <th>suburb</th>\n",
       "      <th>city_name</th>\n",
       "      <th>state</th>\n",
       "      <th>lat</th>\n",
       "      <th>lon</th>\n",
       "      <th>bedrooms</th>\n",
       "      <th>property_type</th>\n",
       "      <th>lga_pid</th>\n",
       "      <th>Year</th>\n",
       "      <th>Month</th>\n",
       "      <th>Day</th>\n",
       "      <th>price</th>\n",
       "    </tr>\n",
       "  </thead>\n",
       "  <tbody>\n",
       "    <tr>\n",
       "      <th>0</th>\n",
       "      <td>Como</td>\n",
       "      <td>Sydney</td>\n",
       "      <td>NSW</td>\n",
       "      <td>-1.701663</td>\n",
       "      <td>-0.605292</td>\n",
       "      <td>3</td>\n",
       "      <td>unit</td>\n",
       "      <td>NSW298</td>\n",
       "      <td>2019</td>\n",
       "      <td>11</td>\n",
       "      <td>29</td>\n",
       "      <td>945000.0</td>\n",
       "    </tr>\n",
       "    <tr>\n",
       "      <th>1</th>\n",
       "      <td>Concord</td>\n",
       "      <td>Sydney</td>\n",
       "      <td>NSW</td>\n",
       "      <td>0.091060</td>\n",
       "      <td>-0.288014</td>\n",
       "      <td>3</td>\n",
       "      <td>unit</td>\n",
       "      <td>NSW282</td>\n",
       "      <td>2018</td>\n",
       "      <td>9</td>\n",
       "      <td>4</td>\n",
       "      <td>1150000.0</td>\n",
       "    </tr>\n",
       "    <tr>\n",
       "      <th>2</th>\n",
       "      <td>Concord</td>\n",
       "      <td>Sydney</td>\n",
       "      <td>NSW</td>\n",
       "      <td>0.199942</td>\n",
       "      <td>-0.250153</td>\n",
       "      <td>2</td>\n",
       "      <td>unit</td>\n",
       "      <td>NSW282</td>\n",
       "      <td>2018</td>\n",
       "      <td>9</td>\n",
       "      <td>22</td>\n",
       "      <td>790000.0</td>\n",
       "    </tr>\n",
       "    <tr>\n",
       "      <th>3</th>\n",
       "      <td>Concord</td>\n",
       "      <td>Sydney</td>\n",
       "      <td>NSW</td>\n",
       "      <td>0.181086</td>\n",
       "      <td>-0.161090</td>\n",
       "      <td>1</td>\n",
       "      <td>unit</td>\n",
       "      <td>NSW282</td>\n",
       "      <td>2019</td>\n",
       "      <td>3</td>\n",
       "      <td>7</td>\n",
       "      <td>490000.0</td>\n",
       "    </tr>\n",
       "    <tr>\n",
       "      <th>4</th>\n",
       "      <td>Concord</td>\n",
       "      <td>Sydney</td>\n",
       "      <td>NSW</td>\n",
       "      <td>0.141378</td>\n",
       "      <td>-0.180225</td>\n",
       "      <td>2</td>\n",
       "      <td>unit</td>\n",
       "      <td>NSW282</td>\n",
       "      <td>2019</td>\n",
       "      <td>2</td>\n",
       "      <td>5</td>\n",
       "      <td>570000.0</td>\n",
       "    </tr>\n",
       "  </tbody>\n",
       "</table>\n",
       "</div>"
      ],
      "text/plain": [
       "    suburb city_name state       lat       lon  bedrooms property_type  \\\n",
       "0     Como    Sydney   NSW -1.701663 -0.605292         3          unit   \n",
       "1  Concord    Sydney   NSW  0.091060 -0.288014         3          unit   \n",
       "2  Concord    Sydney   NSW  0.199942 -0.250153         2          unit   \n",
       "3  Concord    Sydney   NSW  0.181086 -0.161090         1          unit   \n",
       "4  Concord    Sydney   NSW  0.141378 -0.180225         2          unit   \n",
       "\n",
       "  lga_pid  Year  Month  Day      price  \n",
       "0  NSW298  2019     11   29   945000.0  \n",
       "1  NSW282  2018      9    4  1150000.0  \n",
       "2  NSW282  2018      9   22   790000.0  \n",
       "3  NSW282  2019      3    7   490000.0  \n",
       "4  NSW282  2019      2    5   570000.0  "
      ]
     },
     "execution_count": 26,
     "metadata": {},
     "output_type": "execute_result"
    }
   ],
   "source": [
    "response = ['price']\n",
    "numerical_predictors  = ['lat', 'lon']\n",
    "\n",
    "mu = df[numerical_predictors].mean()\n",
    "sigma = df[numerical_predictors].std()\n",
    "\n",
    "df[numerical_predictors] = (df[numerical_predictors]-mu)/sigma\n",
    "df.head()"
   ]
  },
  {
   "cell_type": "code",
   "execution_count": 27,
   "metadata": {},
   "outputs": [
    {
     "name": "stdout",
     "output_type": "stream",
     "text": [
      "                            OLS Regression Results                            \n",
      "==============================================================================\n",
      "Dep. Variable:                  price   R-squared:                       0.130\n",
      "Model:                            OLS   Adj. R-squared:                  0.130\n",
      "Method:                 Least Squares   F-statistic:                     3017.\n",
      "Date:                Sat, 14 May 2022   Prob (F-statistic):               0.00\n",
      "Time:                        23:58:44   Log-Likelihood:            -2.9351e+05\n",
      "No. Observations:               20231   AIC:                         5.870e+05\n",
      "Df Residuals:                   20229   BIC:                         5.870e+05\n",
      "Df Model:                           1                                         \n",
      "Covariance Type:            nonrobust                                         \n",
      "==============================================================================\n",
      "                 coef    std err          t      P>|t|      [0.025      0.975]\n",
      "------------------------------------------------------------------------------\n",
      "Intercept   2.246e+05   1.14e+04     19.655      0.000    2.02e+05    2.47e+05\n",
      "bedrooms    3.122e+05   5683.954     54.928      0.000    3.01e+05    3.23e+05\n",
      "==============================================================================\n",
      "Omnibus:                    18234.921   Durbin-Watson:                   1.052\n",
      "Prob(Omnibus):                  0.000   Jarque-Bera (JB):          1035717.911\n",
      "Skew:                           4.169   Prob(JB):                         0.00\n",
      "Kurtosis:                      37.046   Cond. No.                         8.31\n",
      "==============================================================================\n",
      "\n",
      "Warnings:\n",
      "[1] Standard Errors assume that the covariance matrix of the errors is correctly specified.\n"
     ]
    }
   ],
   "source": [
    "formula = \"price ~ bedrooms\"\n",
    "model_formula = smf.ols(formula = formula, data = df)\n",
    "results_formula = model_formula.fit()\n",
    "print(results_formula.summary())"
   ]
  },
  {
   "cell_type": "code",
   "execution_count": 28,
   "metadata": {},
   "outputs": [
    {
     "name": "stdout",
     "output_type": "stream",
     "text": [
      "                            OLS Regression Results                            \n",
      "==============================================================================\n",
      "Dep. Variable:                  price   R-squared:                       0.000\n",
      "Model:                            OLS   Adj. R-squared:                  0.000\n",
      "Method:                 Least Squares   F-statistic:                     7.479\n",
      "Date:                Sat, 14 May 2022   Prob (F-statistic):            0.00625\n",
      "Time:                        23:58:44   Log-Likelihood:            -2.9482e+05\n",
      "No. Observations:               20225   AIC:                         5.897e+05\n",
      "Df Residuals:                   20223   BIC:                         5.897e+05\n",
      "Df Model:                           1                                         \n",
      "Covariance Type:            nonrobust                                         \n",
      "==============================================================================\n",
      "                 coef    std err          t      P>|t|      [0.025      0.975]\n",
      "------------------------------------------------------------------------------\n",
      "Intercept    8.24e+05   3645.303    226.043      0.000    8.17e+05    8.31e+05\n",
      "lat         9832.7842   3595.571      2.735      0.006    2785.173    1.69e+04\n",
      "==============================================================================\n",
      "Omnibus:                    18837.787   Durbin-Watson:                   1.250\n",
      "Prob(Omnibus):                  0.000   Jarque-Bera (JB):          1038620.120\n",
      "Skew:                           4.421   Prob(JB):                         0.00\n",
      "Kurtosis:                      36.975   Cond. No.                         1.02\n",
      "==============================================================================\n",
      "\n",
      "Warnings:\n",
      "[1] Standard Errors assume that the covariance matrix of the errors is correctly specified.\n"
     ]
    }
   ],
   "source": [
    "formula = \"price ~ lat\"\n",
    "model_formula = smf.ols(formula = formula, data = df)\n",
    "results_formula = model_formula.fit()\n",
    "print(results_formula.summary())"
   ]
  },
  {
   "cell_type": "code",
   "execution_count": 29,
   "metadata": {},
   "outputs": [
    {
     "name": "stdout",
     "output_type": "stream",
     "text": [
      "                            OLS Regression Results                            \n",
      "==============================================================================\n",
      "Dep. Variable:                  price   R-squared:                       0.202\n",
      "Model:                            OLS   Adj. R-squared:                  0.202\n",
      "Method:                 Least Squares   F-statistic:                     5112.\n",
      "Date:                Sat, 14 May 2022   Prob (F-statistic):               0.00\n",
      "Time:                        23:58:44   Log-Likelihood:            -2.9255e+05\n",
      "No. Observations:               20225   AIC:                         5.851e+05\n",
      "Df Residuals:                   20223   BIC:                         5.851e+05\n",
      "Df Model:                           1                                         \n",
      "Covariance Type:            nonrobust                                         \n",
      "==============================================================================\n",
      "                 coef    std err          t      P>|t|      [0.025      0.975]\n",
      "------------------------------------------------------------------------------\n",
      "Intercept   8.369e+05   3262.052    256.566      0.000    8.31e+05    8.43e+05\n",
      "lon         2.297e+05   3212.573     71.498      0.000    2.23e+05    2.36e+05\n",
      "==============================================================================\n",
      "Omnibus:                    20851.176   Durbin-Watson:                   1.557\n",
      "Prob(Omnibus):                  0.000   Jarque-Bera (JB):          1751623.497\n",
      "Skew:                           5.074   Prob(JB):                         0.00\n",
      "Kurtosis:                      47.448   Cond. No.                         1.06\n",
      "==============================================================================\n",
      "\n",
      "Warnings:\n",
      "[1] Standard Errors assume that the covariance matrix of the errors is correctly specified.\n"
     ]
    }
   ],
   "source": [
    "formula = \"price ~ lon\"\n",
    "model_formula = smf.ols(formula = formula, data = df)\n",
    "results_formula = model_formula.fit()\n",
    "print(results_formula.summary())"
   ]
  },
  {
   "cell_type": "code",
   "execution_count": 30,
   "metadata": {},
   "outputs": [
    {
     "name": "stdout",
     "output_type": "stream",
     "text": [
      "                            OLS Regression Results                            \n",
      "==============================================================================\n",
      "Dep. Variable:                  price   R-squared:                       0.382\n",
      "Model:                            OLS   Adj. R-squared:                  0.381\n",
      "Method:                 Least Squares   F-statistic:                     4159.\n",
      "Date:                Sat, 14 May 2022   Prob (F-statistic):               0.00\n",
      "Time:                        23:58:44   Log-Likelihood:            -2.8997e+05\n",
      "No. Observations:               20225   AIC:                         5.799e+05\n",
      "Df Residuals:                   20221   BIC:                         5.800e+05\n",
      "Df Model:                           3                                         \n",
      "Covariance Type:            nonrobust                                         \n",
      "==============================================================================\n",
      "                 coef    std err          t      P>|t|      [0.025      0.975]\n",
      "------------------------------------------------------------------------------\n",
      "Intercept   1.498e+05   9670.192     15.494      0.000    1.31e+05    1.69e+05\n",
      "bedrooms    3.595e+05   4821.207     74.571      0.000     3.5e+05    3.69e+05\n",
      "lat         5.378e+04   2872.001     18.725      0.000    4.81e+04    5.94e+04\n",
      "lon         2.619e+05   2888.412     90.679      0.000    2.56e+05    2.68e+05\n",
      "==============================================================================\n",
      "Omnibus:                    21913.684   Durbin-Watson:                   1.448\n",
      "Prob(Omnibus):                  0.000   Jarque-Bera (JB):          2471251.872\n",
      "Skew:                           5.413   Prob(JB):                         0.00\n",
      "Kurtosis:                      56.059   Cond. No.                         8.35\n",
      "==============================================================================\n",
      "\n",
      "Warnings:\n",
      "[1] Standard Errors assume that the covariance matrix of the errors is correctly specified.\n"
     ]
    }
   ],
   "source": [
    "formula = \"price ~ bedrooms + lat + lon\"\n",
    "model_formula = smf.ols(formula = formula, data = df)\n",
    "results_formula = model_formula.fit()\n",
    "print(results_formula.summary())"
   ]
  },
  {
   "cell_type": "markdown",
   "metadata": {},
   "source": [
    "This model, comprising of price as it's dependent variable, bedrooms, lat and lon as the independent variables, has an R-squared value of 0.382. This means that only 38% of the model is explained by the independent variables. Overall this model is not quite accurate and analysing any ceteris paribus effects between variables would not yield many useful insights. So linear regression was although tested, but eventually not included in the dashboard. "
   ]
  }
 ],
 "metadata": {
  "kernelspec": {
   "display_name": "Python 3",
   "language": "python",
   "name": "python3"
  },
  "language_info": {
   "codemirror_mode": {
    "name": "ipython",
    "version": 3
   },
   "file_extension": ".py",
   "mimetype": "text/x-python",
   "name": "python",
   "nbconvert_exporter": "python",
   "pygments_lexer": "ipython3",
   "version": "3.7.6"
  }
 },
 "nbformat": 4,
 "nbformat_minor": 4
}
